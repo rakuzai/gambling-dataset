{
 "cells": [
  {
   "cell_type": "code",
   "execution_count": 3,
   "id": "081b9022",
   "metadata": {},
   "outputs": [],
   "source": [
    "import pandas as pd\n",
    "import os"
   ]
  },
  {
   "cell_type": "code",
   "execution_count": 2,
   "id": "4c294cc8",
   "metadata": {},
   "outputs": [],
   "source": [
    "gambling_path = r'C:\\Users\\kanes\\Documents\\gambling-dataset\\dataset\\gambling\\cleaned'\n",
    "non_gambling_path = r'C:\\Users\\kanes\\Documents\\gambling-dataset\\dataset\\non-gambling\\cleaned'"
   ]
  },
  {
   "cell_type": "code",
   "execution_count": 5,
   "id": "b46b08dd",
   "metadata": {},
   "outputs": [],
   "source": [
    "gambling_df = pd.read_csv(os.path.join(gambling_path, 'gambling_v1.csv'), sep=';')\n",
    "non_gambling_df = pd.read_csv(os.path.join(non_gambling_path, 'non_gambling_v1.csv'), sep=';')"
   ]
  },
  {
   "cell_type": "code",
   "execution_count": 6,
   "id": "50be823d",
   "metadata": {},
   "outputs": [],
   "source": [
    "gambling_df[\"Label\"] = 1\n",
    "non_gambling_df[\"Label\"] = 0"
   ]
  },
  {
   "cell_type": "code",
   "execution_count": 7,
   "id": "00dd99c7",
   "metadata": {},
   "outputs": [],
   "source": [
    "combined_df = pd.concat([gambling_df, non_gambling_df], ignore_index=True)"
   ]
  },
  {
   "cell_type": "code",
   "execution_count": 8,
   "id": "bf4d99ee",
   "metadata": {},
   "outputs": [],
   "source": [
    "combined_df = combined_df.sample(frac=1).reset_index(drop=True)"
   ]
  },
  {
   "cell_type": "code",
   "execution_count": 9,
   "id": "be7ca94a",
   "metadata": {},
   "outputs": [
    {
     "name": "stdout",
     "output_type": "stream",
     "text": [
      "<class 'pandas.core.frame.DataFrame'>\n",
      "RangeIndex: 9297 entries, 0 to 9296\n",
      "Data columns (total 4 columns):\n",
      " #   Column    Non-Null Count  Dtype \n",
      "---  ------    --------------  ----- \n",
      " 0   Username  9297 non-null   object\n",
      " 1   Comment   9297 non-null   object\n",
      " 2   Time      9297 non-null   object\n",
      " 3   Label     9297 non-null   int64 \n",
      "dtypes: int64(1), object(3)\n",
      "memory usage: 290.7+ KB\n"
     ]
    }
   ],
   "source": [
    "combined_df.info()"
   ]
  },
  {
   "cell_type": "code",
   "execution_count": 10,
   "id": "5da0406e",
   "metadata": {},
   "outputs": [],
   "source": [
    "save_path = r'C:\\Users\\kanes\\Documents\\gambling-dataset\\dataset'"
   ]
  },
  {
   "cell_type": "code",
   "execution_count": 11,
   "id": "05f60fb3",
   "metadata": {},
   "outputs": [],
   "source": [
    "output_cleaned_path = os.path.join(save_path, 'data.csv')\n",
    "combined_df.to_csv(output_cleaned_path, index=False, sep=';')"
   ]
  },
  {
   "cell_type": "code",
   "execution_count": null,
   "id": "b94a9b9d",
   "metadata": {},
   "outputs": [],
   "source": []
  }
 ],
 "metadata": {
  "kernelspec": {
   "display_name": "bda",
   "language": "python",
   "name": "python3"
  },
  "language_info": {
   "codemirror_mode": {
    "name": "ipython",
    "version": 3
   },
   "file_extension": ".py",
   "mimetype": "text/x-python",
   "name": "python",
   "nbconvert_exporter": "python",
   "pygments_lexer": "ipython3",
   "version": "3.11.5"
  }
 },
 "nbformat": 4,
 "nbformat_minor": 5
}
