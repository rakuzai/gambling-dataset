{
 "cells": [
  {
   "cell_type": "code",
   "execution_count": 11,
   "id": "66d808b1",
   "metadata": {},
   "outputs": [],
   "source": [
    "import pandas as pd\n",
    "import os\n",
    "from glob import glob"
   ]
  },
  {
   "cell_type": "code",
   "execution_count": 12,
   "id": "08514a96",
   "metadata": {},
   "outputs": [],
   "source": [
    "folder_path = r'C:\\Users\\kanes\\Documents\\gambling-dataset\\dataset\\gambling\\cleaned'"
   ]
  },
  {
   "cell_type": "code",
   "execution_count": 13,
   "id": "e534959c",
   "metadata": {},
   "outputs": [],
   "source": [
    "csv_files = glob(os.path.join(folder_path, '*.csv'))"
   ]
  },
  {
   "cell_type": "code",
   "execution_count": 14,
   "id": "e4bc599f",
   "metadata": {},
   "outputs": [],
   "source": [
    "df_list = []\n",
    "for file in csv_files:\n",
    "    df = pd.read_csv(file, sep=';')\n",
    "    df_list.append(df)"
   ]
  },
  {
   "cell_type": "code",
   "execution_count": 15,
   "id": "58972395",
   "metadata": {},
   "outputs": [],
   "source": [
    "combined_df = pd.concat(df_list, ignore_index=True)"
   ]
  },
  {
   "cell_type": "code",
   "execution_count": 16,
   "id": "9b0d2ea5",
   "metadata": {},
   "outputs": [
    {
     "data": {
      "text/html": [
       "<div>\n",
       "<style scoped>\n",
       "    .dataframe tbody tr th:only-of-type {\n",
       "        vertical-align: middle;\n",
       "    }\n",
       "\n",
       "    .dataframe tbody tr th {\n",
       "        vertical-align: top;\n",
       "    }\n",
       "\n",
       "    .dataframe thead th {\n",
       "        text-align: right;\n",
       "    }\n",
       "</style>\n",
       "<table border=\"1\" class=\"dataframe\">\n",
       "  <thead>\n",
       "    <tr style=\"text-align: right;\">\n",
       "      <th></th>\n",
       "      <th>Username</th>\n",
       "      <th>Comment</th>\n",
       "      <th>Time</th>\n",
       "    </tr>\n",
       "  </thead>\n",
       "  <tbody>\n",
       "    <tr>\n",
       "      <th>0</th>\n",
       "      <td>@ColeySchulze-g4d</td>\n",
       "      <td>gw udah coba guys di Weton88 cair mulu 👍</td>\n",
       "      <td>22 jam yang lalu</td>\n",
       "    </tr>\n",
       "    <tr>\n",
       "      <th>1</th>\n",
       "      <td>@KiaraRoberts-s1v</td>\n",
       "      <td>jepey terus di 𝗪𝗘𝗧𝗢𝗡𝟴𝟴, beneran!</td>\n",
       "      <td>22 jam yang lalu</td>\n",
       "    </tr>\n",
       "    <tr>\n",
       "      <th>2</th>\n",
       "      <td>@LombardoPaine-j4q</td>\n",
       "      <td>Cakep Kali 🚩𝗪𝗘𝗧𝗢𝗡𝟴𝟴🚩, Bravo..</td>\n",
       "      <td>22 jam yang lalu</td>\n",
       "    </tr>\n",
       "    <tr>\n",
       "      <th>3</th>\n",
       "      <td>@CorcoranOsborn-s7g</td>\n",
       "      <td>Bermain bersama teman-teman di Weton88 semakin...</td>\n",
       "      <td>22 jam yang lalu</td>\n",
       "    </tr>\n",
       "    <tr>\n",
       "      <th>4</th>\n",
       "      <td>@FairclothSamantha-v6k</td>\n",
       "      <td>Cair terus ini kakak mantap banget cuan di Wet...</td>\n",
       "      <td>22 jam yang lalu</td>\n",
       "    </tr>\n",
       "  </tbody>\n",
       "</table>\n",
       "</div>"
      ],
      "text/plain": [
       "                 Username                                            Comment  \\\n",
       "0       @ColeySchulze-g4d           gw udah coba guys di Weton88 cair mulu 👍   \n",
       "1       @KiaraRoberts-s1v                   jepey terus di 𝗪𝗘𝗧𝗢𝗡𝟴𝟴, beneran!   \n",
       "2      @LombardoPaine-j4q                      Cakep Kali 🚩𝗪𝗘𝗧𝗢𝗡𝟴𝟴🚩, Bravo..   \n",
       "3     @CorcoranOsborn-s7g  Bermain bersama teman-teman di Weton88 semakin...   \n",
       "4  @FairclothSamantha-v6k  Cair terus ini kakak mantap banget cuan di Wet...   \n",
       "\n",
       "               Time  \n",
       "0  22 jam yang lalu  \n",
       "1  22 jam yang lalu  \n",
       "2  22 jam yang lalu  \n",
       "3  22 jam yang lalu  \n",
       "4  22 jam yang lalu  "
      ]
     },
     "execution_count": 16,
     "metadata": {},
     "output_type": "execute_result"
    }
   ],
   "source": [
    "combined_df.head()"
   ]
  },
  {
   "cell_type": "code",
   "execution_count": 18,
   "id": "fea8fe66",
   "metadata": {},
   "outputs": [
    {
     "data": {
      "text/html": [
       "<div>\n",
       "<style scoped>\n",
       "    .dataframe tbody tr th:only-of-type {\n",
       "        vertical-align: middle;\n",
       "    }\n",
       "\n",
       "    .dataframe tbody tr th {\n",
       "        vertical-align: top;\n",
       "    }\n",
       "\n",
       "    .dataframe thead th {\n",
       "        text-align: right;\n",
       "    }\n",
       "</style>\n",
       "<table border=\"1\" class=\"dataframe\">\n",
       "  <thead>\n",
       "    <tr style=\"text-align: right;\">\n",
       "      <th></th>\n",
       "      <th>Username</th>\n",
       "      <th>Comment</th>\n",
       "      <th>Time</th>\n",
       "    </tr>\n",
       "  </thead>\n",
       "  <tbody>\n",
       "    <tr>\n",
       "      <th>2286</th>\n",
       "      <td>@DarrelrTMTE</td>\n",
       "      <td>Jepe pertama kali maen, puas banget</td>\n",
       "      <td>1 hari yang lalu</td>\n",
       "    </tr>\n",
       "    <tr>\n",
       "      <th>2287</th>\n",
       "      <td>@LeviP1fOH</td>\n",
       "      <td>Wede 2 kali hari ini, sketer terus</td>\n",
       "      <td>1 hari yang lalu</td>\n",
       "    </tr>\n",
       "    <tr>\n",
       "      <th>2288</th>\n",
       "      <td>@Jamesp5Yr4</td>\n",
       "      <td>Main di 𝐃 𝐄 W A 𝘋 𝑂 𝑅 𝐀-bikin lupa waktu! Hibu...</td>\n",
       "      <td>2 hari yang lalu</td>\n",
       "    </tr>\n",
       "    <tr>\n",
       "      <th>2289</th>\n",
       "      <td>@MaryNhAoq</td>\n",
       "      <td>𝘿 𝐸 W 𝐴 𝐷 О 𝐑 𝘼menarik semakin banyak pengguna. 🦪</td>\n",
       "      <td>2 hari yang lalu</td>\n",
       "    </tr>\n",
       "    <tr>\n",
       "      <th>2290</th>\n",
       "      <td>NaN</td>\n",
       "      <td>NaN</td>\n",
       "      <td>NaN</td>\n",
       "    </tr>\n",
       "  </tbody>\n",
       "</table>\n",
       "</div>"
      ],
      "text/plain": [
       "          Username                                            Comment  \\\n",
       "2286  @DarrelrTMTE                Jepe pertama kali maen, puas banget   \n",
       "2287    @LeviP1fOH                 Wede 2 kali hari ini, sketer terus   \n",
       "2288   @Jamesp5Yr4  Main di 𝐃 𝐄 W A 𝘋 𝑂 𝑅 𝐀-bikin lupa waktu! Hibu...   \n",
       "2289    @MaryNhAoq  𝘿 𝐸 W 𝐴 𝐷 О 𝐑 𝘼menarik semakin banyak pengguna. 🦪   \n",
       "2290           NaN                                                NaN   \n",
       "\n",
       "                  Time  \n",
       "2286  1 hari yang lalu  \n",
       "2287  1 hari yang lalu  \n",
       "2288  2 hari yang lalu  \n",
       "2289  2 hari yang lalu  \n",
       "2290               NaN  "
      ]
     },
     "execution_count": 18,
     "metadata": {},
     "output_type": "execute_result"
    }
   ],
   "source": [
    "combined_df.tail()"
   ]
  },
  {
   "cell_type": "code",
   "execution_count": 19,
   "id": "8a7f2bcf",
   "metadata": {},
   "outputs": [
    {
     "name": "stdout",
     "output_type": "stream",
     "text": [
      "<class 'pandas.core.frame.DataFrame'>\n",
      "RangeIndex: 2291 entries, 0 to 2290\n",
      "Data columns (total 3 columns):\n",
      " #   Column    Non-Null Count  Dtype \n",
      "---  ------    --------------  ----- \n",
      " 0   Username  2287 non-null   object\n",
      " 1   Comment   2287 non-null   object\n",
      " 2   Time      2287 non-null   object\n",
      "dtypes: object(3)\n",
      "memory usage: 53.8+ KB\n"
     ]
    }
   ],
   "source": [
    "combined_df.info()"
   ]
  },
  {
   "cell_type": "code",
   "execution_count": 20,
   "id": "5c706ae9",
   "metadata": {},
   "outputs": [],
   "source": [
    "combined_df = combined_df.dropna()"
   ]
  },
  {
   "cell_type": "code",
   "execution_count": 21,
   "id": "423ce057",
   "metadata": {},
   "outputs": [
    {
     "name": "stdout",
     "output_type": "stream",
     "text": [
      "<class 'pandas.core.frame.DataFrame'>\n",
      "Index: 2287 entries, 0 to 2289\n",
      "Data columns (total 3 columns):\n",
      " #   Column    Non-Null Count  Dtype \n",
      "---  ------    --------------  ----- \n",
      " 0   Username  2287 non-null   object\n",
      " 1   Comment   2287 non-null   object\n",
      " 2   Time      2287 non-null   object\n",
      "dtypes: object(3)\n",
      "memory usage: 71.5+ KB\n"
     ]
    }
   ],
   "source": [
    "combined_df.info()"
   ]
  },
  {
   "cell_type": "code",
   "execution_count": 22,
   "id": "64caeaeb",
   "metadata": {},
   "outputs": [],
   "source": [
    "combined_df = combined_df.drop_duplicates()\n",
    "\n",
    "combined_df.reset_index(drop=True, inplace=True)"
   ]
  },
  {
   "cell_type": "code",
   "execution_count": 23,
   "id": "abf05e21",
   "metadata": {},
   "outputs": [
    {
     "name": "stdout",
     "output_type": "stream",
     "text": [
      "<class 'pandas.core.frame.DataFrame'>\n",
      "RangeIndex: 1945 entries, 0 to 1944\n",
      "Data columns (total 3 columns):\n",
      " #   Column    Non-Null Count  Dtype \n",
      "---  ------    --------------  ----- \n",
      " 0   Username  1945 non-null   object\n",
      " 1   Comment   1945 non-null   object\n",
      " 2   Time      1945 non-null   object\n",
      "dtypes: object(3)\n",
      "memory usage: 45.7+ KB\n"
     ]
    }
   ],
   "source": [
    "combined_df.info()"
   ]
  },
  {
   "cell_type": "code",
   "execution_count": 24,
   "id": "46a7c787",
   "metadata": {},
   "outputs": [
    {
     "data": {
      "text/html": [
       "<div>\n",
       "<style scoped>\n",
       "    .dataframe tbody tr th:only-of-type {\n",
       "        vertical-align: middle;\n",
       "    }\n",
       "\n",
       "    .dataframe tbody tr th {\n",
       "        vertical-align: top;\n",
       "    }\n",
       "\n",
       "    .dataframe thead th {\n",
       "        text-align: right;\n",
       "    }\n",
       "</style>\n",
       "<table border=\"1\" class=\"dataframe\">\n",
       "  <thead>\n",
       "    <tr style=\"text-align: right;\">\n",
       "      <th></th>\n",
       "      <th>Username</th>\n",
       "      <th>Comment</th>\n",
       "      <th>Time</th>\n",
       "    </tr>\n",
       "  </thead>\n",
       "  <tbody>\n",
       "    <tr>\n",
       "      <th>0</th>\n",
       "      <td>@ColeySchulze-g4d</td>\n",
       "      <td>gw udah coba guys di Weton88 cair mulu 👍</td>\n",
       "      <td>22 jam yang lalu</td>\n",
       "    </tr>\n",
       "    <tr>\n",
       "      <th>1</th>\n",
       "      <td>@KiaraRoberts-s1v</td>\n",
       "      <td>jepey terus di 𝗪𝗘𝗧𝗢𝗡𝟴𝟴, beneran!</td>\n",
       "      <td>22 jam yang lalu</td>\n",
       "    </tr>\n",
       "    <tr>\n",
       "      <th>2</th>\n",
       "      <td>@LombardoPaine-j4q</td>\n",
       "      <td>Cakep Kali 🚩𝗪𝗘𝗧𝗢𝗡𝟴𝟴🚩, Bravo..</td>\n",
       "      <td>22 jam yang lalu</td>\n",
       "    </tr>\n",
       "    <tr>\n",
       "      <th>3</th>\n",
       "      <td>@CorcoranOsborn-s7g</td>\n",
       "      <td>Bermain bersama teman-teman di Weton88 semakin...</td>\n",
       "      <td>22 jam yang lalu</td>\n",
       "    </tr>\n",
       "    <tr>\n",
       "      <th>4</th>\n",
       "      <td>@FairclothSamantha-v6k</td>\n",
       "      <td>Cair terus ini kakak mantap banget cuan di Wet...</td>\n",
       "      <td>22 jam yang lalu</td>\n",
       "    </tr>\n",
       "  </tbody>\n",
       "</table>\n",
       "</div>"
      ],
      "text/plain": [
       "                 Username                                            Comment  \\\n",
       "0       @ColeySchulze-g4d           gw udah coba guys di Weton88 cair mulu 👍   \n",
       "1       @KiaraRoberts-s1v                   jepey terus di 𝗪𝗘𝗧𝗢𝗡𝟴𝟴, beneran!   \n",
       "2      @LombardoPaine-j4q                      Cakep Kali 🚩𝗪𝗘𝗧𝗢𝗡𝟴𝟴🚩, Bravo..   \n",
       "3     @CorcoranOsborn-s7g  Bermain bersama teman-teman di Weton88 semakin...   \n",
       "4  @FairclothSamantha-v6k  Cair terus ini kakak mantap banget cuan di Wet...   \n",
       "\n",
       "               Time  \n",
       "0  22 jam yang lalu  \n",
       "1  22 jam yang lalu  \n",
       "2  22 jam yang lalu  \n",
       "3  22 jam yang lalu  \n",
       "4  22 jam yang lalu  "
      ]
     },
     "execution_count": 24,
     "metadata": {},
     "output_type": "execute_result"
    }
   ],
   "source": [
    "combined_df.head()"
   ]
  },
  {
   "cell_type": "code",
   "execution_count": 25,
   "id": "acdcc0eb",
   "metadata": {},
   "outputs": [
    {
     "data": {
      "text/html": [
       "<div>\n",
       "<style scoped>\n",
       "    .dataframe tbody tr th:only-of-type {\n",
       "        vertical-align: middle;\n",
       "    }\n",
       "\n",
       "    .dataframe tbody tr th {\n",
       "        vertical-align: top;\n",
       "    }\n",
       "\n",
       "    .dataframe thead th {\n",
       "        text-align: right;\n",
       "    }\n",
       "</style>\n",
       "<table border=\"1\" class=\"dataframe\">\n",
       "  <thead>\n",
       "    <tr style=\"text-align: right;\">\n",
       "      <th></th>\n",
       "      <th>Username</th>\n",
       "      <th>Comment</th>\n",
       "      <th>Time</th>\n",
       "    </tr>\n",
       "  </thead>\n",
       "  <tbody>\n",
       "    <tr>\n",
       "      <th>1940</th>\n",
       "      <td>@Eliasuw6cH</td>\n",
       "      <td>Wede tadi malam, makswin di Starlight</td>\n",
       "      <td>1 hari yang lalu</td>\n",
       "    </tr>\n",
       "    <tr>\n",
       "      <th>1941</th>\n",
       "      <td>@DarrelrTMTE</td>\n",
       "      <td>Jepe pertama kali maen, puas banget</td>\n",
       "      <td>1 hari yang lalu</td>\n",
       "    </tr>\n",
       "    <tr>\n",
       "      <th>1942</th>\n",
       "      <td>@LeviP1fOH</td>\n",
       "      <td>Wede 2 kali hari ini, sketer terus</td>\n",
       "      <td>1 hari yang lalu</td>\n",
       "    </tr>\n",
       "    <tr>\n",
       "      <th>1943</th>\n",
       "      <td>@Jamesp5Yr4</td>\n",
       "      <td>Main di 𝐃 𝐄 W A 𝘋 𝑂 𝑅 𝐀-bikin lupa waktu! Hibu...</td>\n",
       "      <td>2 hari yang lalu</td>\n",
       "    </tr>\n",
       "    <tr>\n",
       "      <th>1944</th>\n",
       "      <td>@MaryNhAoq</td>\n",
       "      <td>𝘿 𝐸 W 𝐴 𝐷 О 𝐑 𝘼menarik semakin banyak pengguna. 🦪</td>\n",
       "      <td>2 hari yang lalu</td>\n",
       "    </tr>\n",
       "  </tbody>\n",
       "</table>\n",
       "</div>"
      ],
      "text/plain": [
       "          Username                                            Comment  \\\n",
       "1940   @Eliasuw6cH              Wede tadi malam, makswin di Starlight   \n",
       "1941  @DarrelrTMTE                Jepe pertama kali maen, puas banget   \n",
       "1942    @LeviP1fOH                 Wede 2 kali hari ini, sketer terus   \n",
       "1943   @Jamesp5Yr4  Main di 𝐃 𝐄 W A 𝘋 𝑂 𝑅 𝐀-bikin lupa waktu! Hibu...   \n",
       "1944    @MaryNhAoq  𝘿 𝐸 W 𝐴 𝐷 О 𝐑 𝘼menarik semakin banyak pengguna. 🦪   \n",
       "\n",
       "                  Time  \n",
       "1940  1 hari yang lalu  \n",
       "1941  1 hari yang lalu  \n",
       "1942  1 hari yang lalu  \n",
       "1943  2 hari yang lalu  \n",
       "1944  2 hari yang lalu  "
      ]
     },
     "execution_count": 25,
     "metadata": {},
     "output_type": "execute_result"
    }
   ],
   "source": [
    "combined_df.tail()"
   ]
  },
  {
   "cell_type": "code",
   "execution_count": 28,
   "id": "33c3b204",
   "metadata": {},
   "outputs": [],
   "source": [
    "output_cleaned_path = os.path.join(folder_path, 'gambling_v1.csv')\n",
    "combined_df.to_csv(output_cleaned_path, index=False, sep=';')"
   ]
  },
  {
   "cell_type": "code",
   "execution_count": null,
   "id": "074463b0",
   "metadata": {},
   "outputs": [],
   "source": []
  }
 ],
 "metadata": {
  "kernelspec": {
   "display_name": "bda",
   "language": "python",
   "name": "python3"
  },
  "language_info": {
   "codemirror_mode": {
    "name": "ipython",
    "version": 3
   },
   "file_extension": ".py",
   "mimetype": "text/x-python",
   "name": "python",
   "nbconvert_exporter": "python",
   "pygments_lexer": "ipython3",
   "version": "3.11.5"
  }
 },
 "nbformat": 4,
 "nbformat_minor": 5
}
