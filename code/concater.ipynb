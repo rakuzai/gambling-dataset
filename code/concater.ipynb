{
 "cells": [
  {
   "cell_type": "code",
   "execution_count": 1,
   "id": "66d808b1",
   "metadata": {},
   "outputs": [],
   "source": [
    "import pandas as pd\n",
    "import os\n",
    "from glob import glob"
   ]
  },
  {
   "cell_type": "code",
   "execution_count": 2,
   "id": "08514a96",
   "metadata": {},
   "outputs": [],
   "source": [
    "folder_path = r'C:\\Users\\kanes\\Documents\\gambling-dataset\\dataset\\non-gambling\\cleaned'"
   ]
  },
  {
   "cell_type": "code",
   "execution_count": 3,
   "id": "e534959c",
   "metadata": {},
   "outputs": [],
   "source": [
    "csv_files = glob(os.path.join(folder_path, '*.csv'))"
   ]
  },
  {
   "cell_type": "code",
   "execution_count": 4,
   "id": "e4bc599f",
   "metadata": {},
   "outputs": [],
   "source": [
    "df_list = []\n",
    "for file in csv_files:\n",
    "    df = pd.read_csv(file, sep=';')\n",
    "    df_list.append(df)"
   ]
  },
  {
   "cell_type": "code",
   "execution_count": 5,
   "id": "58972395",
   "metadata": {},
   "outputs": [],
   "source": [
    "combined_df = pd.concat(df_list, ignore_index=True)"
   ]
  },
  {
   "cell_type": "code",
   "execution_count": 6,
   "id": "9b0d2ea5",
   "metadata": {},
   "outputs": [
    {
     "data": {
      "text/html": [
       "<div>\n",
       "<style scoped>\n",
       "    .dataframe tbody tr th:only-of-type {\n",
       "        vertical-align: middle;\n",
       "    }\n",
       "\n",
       "    .dataframe tbody tr th {\n",
       "        vertical-align: top;\n",
       "    }\n",
       "\n",
       "    .dataframe thead th {\n",
       "        text-align: right;\n",
       "    }\n",
       "</style>\n",
       "<table border=\"1\" class=\"dataframe\">\n",
       "  <thead>\n",
       "    <tr style=\"text-align: right;\">\n",
       "      <th></th>\n",
       "      <th>Username</th>\n",
       "      <th>Comment</th>\n",
       "      <th>Time</th>\n",
       "    </tr>\n",
       "  </thead>\n",
       "  <tbody>\n",
       "    <tr>\n",
       "      <th>0</th>\n",
       "      <td>@arsene476</td>\n",
       "      <td>9:13 ☝🏻👈🏻 - 👉🏻☝🏻</td>\n",
       "      <td>5 bulan yang lalu</td>\n",
       "    </tr>\n",
       "    <tr>\n",
       "      <th>1</th>\n",
       "      <td>@LarasAgnesia</td>\n",
       "      <td>Telat nonton</td>\n",
       "      <td>22 jam yang lalu</td>\n",
       "    </tr>\n",
       "    <tr>\n",
       "      <th>2</th>\n",
       "      <td>@silvieamaehdalena1188</td>\n",
       "      <td>𝙶𝚊𝚋𝚞𝚝𝚝𝚝𝚝𝚝𝚝𝚝𝚝𝚝</td>\n",
       "      <td>12 hari yang lalu</td>\n",
       "    </tr>\n",
       "    <tr>\n",
       "      <th>3</th>\n",
       "      <td>@ikhwanizzulhaq6324</td>\n",
       "      <td>Seru 4:38</td>\n",
       "      <td>2 minggu yang lalu</td>\n",
       "    </tr>\n",
       "    <tr>\n",
       "      <th>4</th>\n",
       "      <td>@Inisjal_R</td>\n",
       "      <td>29:25 ih colok colokan</td>\n",
       "      <td>2 minggu yang lalu</td>\n",
       "    </tr>\n",
       "  </tbody>\n",
       "</table>\n",
       "</div>"
      ],
      "text/plain": [
       "                 Username                 Comment                Time\n",
       "0              @arsene476        9:13 ☝🏻👈🏻 - 👉🏻☝🏻   5 bulan yang lalu\n",
       "1           @LarasAgnesia            Telat nonton    22 jam yang lalu\n",
       "2  @silvieamaehdalena1188           𝙶𝚊𝚋𝚞𝚝𝚝𝚝𝚝𝚝𝚝𝚝𝚝𝚝   12 hari yang lalu\n",
       "3     @ikhwanizzulhaq6324               Seru 4:38  2 minggu yang lalu\n",
       "4              @Inisjal_R  29:25 ih colok colokan  2 minggu yang lalu"
      ]
     },
     "execution_count": 6,
     "metadata": {},
     "output_type": "execute_result"
    }
   ],
   "source": [
    "combined_df.head()"
   ]
  },
  {
   "cell_type": "code",
   "execution_count": 7,
   "id": "fea8fe66",
   "metadata": {},
   "outputs": [
    {
     "data": {
      "text/html": [
       "<div>\n",
       "<style scoped>\n",
       "    .dataframe tbody tr th:only-of-type {\n",
       "        vertical-align: middle;\n",
       "    }\n",
       "\n",
       "    .dataframe tbody tr th {\n",
       "        vertical-align: top;\n",
       "    }\n",
       "\n",
       "    .dataframe thead th {\n",
       "        text-align: right;\n",
       "    }\n",
       "</style>\n",
       "<table border=\"1\" class=\"dataframe\">\n",
       "  <thead>\n",
       "    <tr style=\"text-align: right;\">\n",
       "      <th></th>\n",
       "      <th>Username</th>\n",
       "      <th>Comment</th>\n",
       "      <th>Time</th>\n",
       "    </tr>\n",
       "  </thead>\n",
       "  <tbody>\n",
       "    <tr>\n",
       "      <th>7623</th>\n",
       "      <td>@kiporaplexone</td>\n",
       "      <td>Ke Paniai Enarotali bang</td>\n",
       "      <td>1 bulan yang lalu</td>\n",
       "    </tr>\n",
       "    <tr>\n",
       "      <th>7624</th>\n",
       "      <td>@rumaropenfiery7773</td>\n",
       "      <td>coba Abang dtng di pulau biak, bnyak sekali pa...</td>\n",
       "      <td>1 bulan yang lalu</td>\n",
       "    </tr>\n",
       "    <tr>\n",
       "      <th>7625</th>\n",
       "      <td>@MahdalenaAsri-e3n</td>\n",
       "      <td>Alam Indonesia indah semua. Silahkan saudara p...</td>\n",
       "      <td>5 hari yang lalu</td>\n",
       "    </tr>\n",
       "    <tr>\n",
       "      <th>7626</th>\n",
       "      <td>@MahdalenaAsri-e3n</td>\n",
       "      <td>Jangan merusak alam.</td>\n",
       "      <td>5 hari yang lalu</td>\n",
       "    </tr>\n",
       "    <tr>\n",
       "      <th>7627</th>\n",
       "      <td>@SarahAzzalia-yh1lm</td>\n",
       "      <td>ke Biak dongn Bang Arsal, banyak tempat bagus ...</td>\n",
       "      <td>4 hari yang lalu</td>\n",
       "    </tr>\n",
       "  </tbody>\n",
       "</table>\n",
       "</div>"
      ],
      "text/plain": [
       "                 Username                                            Comment  \\\n",
       "7623       @kiporaplexone                           Ke Paniai Enarotali bang   \n",
       "7624  @rumaropenfiery7773  coba Abang dtng di pulau biak, bnyak sekali pa...   \n",
       "7625   @MahdalenaAsri-e3n  Alam Indonesia indah semua. Silahkan saudara p...   \n",
       "7626   @MahdalenaAsri-e3n                               Jangan merusak alam.   \n",
       "7627  @SarahAzzalia-yh1lm  ke Biak dongn Bang Arsal, banyak tempat bagus ...   \n",
       "\n",
       "                   Time  \n",
       "7623  1 bulan yang lalu  \n",
       "7624  1 bulan yang lalu  \n",
       "7625   5 hari yang lalu  \n",
       "7626   5 hari yang lalu  \n",
       "7627   4 hari yang lalu  "
      ]
     },
     "execution_count": 7,
     "metadata": {},
     "output_type": "execute_result"
    }
   ],
   "source": [
    "combined_df.tail()"
   ]
  },
  {
   "cell_type": "code",
   "execution_count": 8,
   "id": "8a7f2bcf",
   "metadata": {},
   "outputs": [
    {
     "name": "stdout",
     "output_type": "stream",
     "text": [
      "<class 'pandas.core.frame.DataFrame'>\n",
      "RangeIndex: 7628 entries, 0 to 7627\n",
      "Data columns (total 3 columns):\n",
      " #   Column    Non-Null Count  Dtype \n",
      "---  ------    --------------  ----- \n",
      " 0   Username  7628 non-null   object\n",
      " 1   Comment   7628 non-null   object\n",
      " 2   Time      7628 non-null   object\n",
      "dtypes: object(3)\n",
      "memory usage: 178.9+ KB\n"
     ]
    }
   ],
   "source": [
    "combined_df.info()"
   ]
  },
  {
   "cell_type": "code",
   "execution_count": 9,
   "id": "5c706ae9",
   "metadata": {},
   "outputs": [],
   "source": [
    "combined_df = combined_df.dropna()"
   ]
  },
  {
   "cell_type": "code",
   "execution_count": 10,
   "id": "423ce057",
   "metadata": {},
   "outputs": [
    {
     "name": "stdout",
     "output_type": "stream",
     "text": [
      "<class 'pandas.core.frame.DataFrame'>\n",
      "RangeIndex: 7628 entries, 0 to 7627\n",
      "Data columns (total 3 columns):\n",
      " #   Column    Non-Null Count  Dtype \n",
      "---  ------    --------------  ----- \n",
      " 0   Username  7628 non-null   object\n",
      " 1   Comment   7628 non-null   object\n",
      " 2   Time      7628 non-null   object\n",
      "dtypes: object(3)\n",
      "memory usage: 178.9+ KB\n"
     ]
    }
   ],
   "source": [
    "combined_df.info()"
   ]
  },
  {
   "cell_type": "code",
   "execution_count": 11,
   "id": "64caeaeb",
   "metadata": {},
   "outputs": [],
   "source": [
    "combined_df = combined_df.drop_duplicates()\n",
    "\n",
    "combined_df.reset_index(drop=True, inplace=True)"
   ]
  },
  {
   "cell_type": "code",
   "execution_count": 12,
   "id": "abf05e21",
   "metadata": {},
   "outputs": [
    {
     "name": "stdout",
     "output_type": "stream",
     "text": [
      "<class 'pandas.core.frame.DataFrame'>\n",
      "RangeIndex: 7352 entries, 0 to 7351\n",
      "Data columns (total 3 columns):\n",
      " #   Column    Non-Null Count  Dtype \n",
      "---  ------    --------------  ----- \n",
      " 0   Username  7352 non-null   object\n",
      " 1   Comment   7352 non-null   object\n",
      " 2   Time      7352 non-null   object\n",
      "dtypes: object(3)\n",
      "memory usage: 172.4+ KB\n"
     ]
    }
   ],
   "source": [
    "combined_df.info()"
   ]
  },
  {
   "cell_type": "code",
   "execution_count": 13,
   "id": "46a7c787",
   "metadata": {},
   "outputs": [
    {
     "data": {
      "text/html": [
       "<div>\n",
       "<style scoped>\n",
       "    .dataframe tbody tr th:only-of-type {\n",
       "        vertical-align: middle;\n",
       "    }\n",
       "\n",
       "    .dataframe tbody tr th {\n",
       "        vertical-align: top;\n",
       "    }\n",
       "\n",
       "    .dataframe thead th {\n",
       "        text-align: right;\n",
       "    }\n",
       "</style>\n",
       "<table border=\"1\" class=\"dataframe\">\n",
       "  <thead>\n",
       "    <tr style=\"text-align: right;\">\n",
       "      <th></th>\n",
       "      <th>Username</th>\n",
       "      <th>Comment</th>\n",
       "      <th>Time</th>\n",
       "    </tr>\n",
       "  </thead>\n",
       "  <tbody>\n",
       "    <tr>\n",
       "      <th>0</th>\n",
       "      <td>@arsene476</td>\n",
       "      <td>9:13 ☝🏻👈🏻 - 👉🏻☝🏻</td>\n",
       "      <td>5 bulan yang lalu</td>\n",
       "    </tr>\n",
       "    <tr>\n",
       "      <th>1</th>\n",
       "      <td>@LarasAgnesia</td>\n",
       "      <td>Telat nonton</td>\n",
       "      <td>22 jam yang lalu</td>\n",
       "    </tr>\n",
       "    <tr>\n",
       "      <th>2</th>\n",
       "      <td>@silvieamaehdalena1188</td>\n",
       "      <td>𝙶𝚊𝚋𝚞𝚝𝚝𝚝𝚝𝚝𝚝𝚝𝚝𝚝</td>\n",
       "      <td>12 hari yang lalu</td>\n",
       "    </tr>\n",
       "    <tr>\n",
       "      <th>3</th>\n",
       "      <td>@ikhwanizzulhaq6324</td>\n",
       "      <td>Seru 4:38</td>\n",
       "      <td>2 minggu yang lalu</td>\n",
       "    </tr>\n",
       "    <tr>\n",
       "      <th>4</th>\n",
       "      <td>@Inisjal_R</td>\n",
       "      <td>29:25 ih colok colokan</td>\n",
       "      <td>2 minggu yang lalu</td>\n",
       "    </tr>\n",
       "  </tbody>\n",
       "</table>\n",
       "</div>"
      ],
      "text/plain": [
       "                 Username                 Comment                Time\n",
       "0              @arsene476        9:13 ☝🏻👈🏻 - 👉🏻☝🏻   5 bulan yang lalu\n",
       "1           @LarasAgnesia            Telat nonton    22 jam yang lalu\n",
       "2  @silvieamaehdalena1188           𝙶𝚊𝚋𝚞𝚝𝚝𝚝𝚝𝚝𝚝𝚝𝚝𝚝   12 hari yang lalu\n",
       "3     @ikhwanizzulhaq6324               Seru 4:38  2 minggu yang lalu\n",
       "4              @Inisjal_R  29:25 ih colok colokan  2 minggu yang lalu"
      ]
     },
     "execution_count": 13,
     "metadata": {},
     "output_type": "execute_result"
    }
   ],
   "source": [
    "combined_df.head()"
   ]
  },
  {
   "cell_type": "code",
   "execution_count": 14,
   "id": "acdcc0eb",
   "metadata": {},
   "outputs": [
    {
     "data": {
      "text/html": [
       "<div>\n",
       "<style scoped>\n",
       "    .dataframe tbody tr th:only-of-type {\n",
       "        vertical-align: middle;\n",
       "    }\n",
       "\n",
       "    .dataframe tbody tr th {\n",
       "        vertical-align: top;\n",
       "    }\n",
       "\n",
       "    .dataframe thead th {\n",
       "        text-align: right;\n",
       "    }\n",
       "</style>\n",
       "<table border=\"1\" class=\"dataframe\">\n",
       "  <thead>\n",
       "    <tr style=\"text-align: right;\">\n",
       "      <th></th>\n",
       "      <th>Username</th>\n",
       "      <th>Comment</th>\n",
       "      <th>Time</th>\n",
       "    </tr>\n",
       "  </thead>\n",
       "  <tbody>\n",
       "    <tr>\n",
       "      <th>7347</th>\n",
       "      <td>@kiporaplexone</td>\n",
       "      <td>Ke Paniai Enarotali bang</td>\n",
       "      <td>1 bulan yang lalu</td>\n",
       "    </tr>\n",
       "    <tr>\n",
       "      <th>7348</th>\n",
       "      <td>@rumaropenfiery7773</td>\n",
       "      <td>coba Abang dtng di pulau biak, bnyak sekali pa...</td>\n",
       "      <td>1 bulan yang lalu</td>\n",
       "    </tr>\n",
       "    <tr>\n",
       "      <th>7349</th>\n",
       "      <td>@MahdalenaAsri-e3n</td>\n",
       "      <td>Alam Indonesia indah semua. Silahkan saudara p...</td>\n",
       "      <td>5 hari yang lalu</td>\n",
       "    </tr>\n",
       "    <tr>\n",
       "      <th>7350</th>\n",
       "      <td>@MahdalenaAsri-e3n</td>\n",
       "      <td>Jangan merusak alam.</td>\n",
       "      <td>5 hari yang lalu</td>\n",
       "    </tr>\n",
       "    <tr>\n",
       "      <th>7351</th>\n",
       "      <td>@SarahAzzalia-yh1lm</td>\n",
       "      <td>ke Biak dongn Bang Arsal, banyak tempat bagus ...</td>\n",
       "      <td>4 hari yang lalu</td>\n",
       "    </tr>\n",
       "  </tbody>\n",
       "</table>\n",
       "</div>"
      ],
      "text/plain": [
       "                 Username                                            Comment  \\\n",
       "7347       @kiporaplexone                           Ke Paniai Enarotali bang   \n",
       "7348  @rumaropenfiery7773  coba Abang dtng di pulau biak, bnyak sekali pa...   \n",
       "7349   @MahdalenaAsri-e3n  Alam Indonesia indah semua. Silahkan saudara p...   \n",
       "7350   @MahdalenaAsri-e3n                               Jangan merusak alam.   \n",
       "7351  @SarahAzzalia-yh1lm  ke Biak dongn Bang Arsal, banyak tempat bagus ...   \n",
       "\n",
       "                   Time  \n",
       "7347  1 bulan yang lalu  \n",
       "7348  1 bulan yang lalu  \n",
       "7349   5 hari yang lalu  \n",
       "7350   5 hari yang lalu  \n",
       "7351   4 hari yang lalu  "
      ]
     },
     "execution_count": 14,
     "metadata": {},
     "output_type": "execute_result"
    }
   ],
   "source": [
    "combined_df.tail()"
   ]
  },
  {
   "cell_type": "code",
   "execution_count": 15,
   "id": "33c3b204",
   "metadata": {},
   "outputs": [],
   "source": [
    "output_cleaned_path = os.path.join(folder_path, 'non_gambling_v1.csv')\n",
    "combined_df.to_csv(output_cleaned_path, index=False, sep=';')"
   ]
  },
  {
   "cell_type": "code",
   "execution_count": null,
   "id": "074463b0",
   "metadata": {},
   "outputs": [],
   "source": []
  }
 ],
 "metadata": {
  "kernelspec": {
   "display_name": "bda",
   "language": "python",
   "name": "python3"
  },
  "language_info": {
   "codemirror_mode": {
    "name": "ipython",
    "version": 3
   },
   "file_extension": ".py",
   "mimetype": "text/x-python",
   "name": "python",
   "nbconvert_exporter": "python",
   "pygments_lexer": "ipython3",
   "version": "3.11.5"
  }
 },
 "nbformat": 4,
 "nbformat_minor": 5
}
